{
 "cells": [
  {
   "cell_type": "code",
   "execution_count": 1,
   "metadata": {},
   "outputs": [],
   "source": [
    "import cv2 as cv\n",
    "import numpy as np"
   ]
  },
  {
   "cell_type": "markdown",
   "metadata": {},
   "source": [
    "# Trackbars to set BGR values in np.zeros (black image)"
   ]
  },
  {
   "cell_type": "code",
   "execution_count": 3,
   "metadata": {},
   "outputs": [],
   "source": [
    "img = np.zeros((300, 500, 3), np.uint8)\n",
    "def nothing(x):\n",
    "    pass #when no statement to execute\n",
    "    \n",
    "cv.namedWindow('image')   \n",
    "cv.createTrackbar('B', 'image', 0, 255, nothing)\n",
    "cv.createTrackbar('G', 'image', 0, 255, nothing)\n",
    "cv.createTrackbar('R', 'image', 0, 255, nothing)\n",
    "\n",
    "while 1: #while True\n",
    "    cv.imshow('image', img)\n",
    "    k = cv.waitKey(1)\n",
    "    if k == ord(' '): #when pressed space-bar\n",
    "        break\n",
    "    b = cv.getTrackbarPos('B', 'image') #to get value from Trackbar\n",
    "    g = cv.getTrackbarPos('G', 'image')\n",
    "    r = cv.getTrackbarPos('R', 'image')\n",
    "    \n",
    "    img[:] = [b, g, r]\n",
    "    \n",
    "\n",
    "cv.destroyAllWindows()"
   ]
  },
  {
   "cell_type": "markdown",
   "metadata": {},
   "source": [
    "# Trackbars for changing variable vlaues"
   ]
  },
  {
   "cell_type": "code",
   "execution_count": 7,
   "metadata": {},
   "outputs": [],
   "source": [
    "\n",
    "def any_function(x): #x will get the value from the trackbar, do nothing (just required in cv.createTrackbar)\n",
    "    None\n",
    "    \n",
    "cv.namedWindow('image')\n",
    "cv.createTrackbar('Value', 'image', 0, 10, any_function) #arg1=trackbar_name, arg2=window_name, arg3=starting, arg4=ending, arg5=call-back_function(to be called on value change)\n",
    "cv.createTrackbar('Gray/Color', 'image', 0, 1, any_function)\n",
    "while 1:\n",
    "    img = cv.imread('butterfly.jpg')\n",
    "    gray = cv.getTrackbarPos('Gray/Color', 'image')\n",
    "    if gray == 1:\n",
    "        img = cv.cvtColor(img, cv.COLOR_BGR2GRAY)\n",
    "    value = cv.getTrackbarPos('Value', 'image')\n",
    "    cv.putText(img, str(value), (10, 50), cv.FONT_HERSHEY_SIMPLEX, 2, (0,255,0), 3)\n",
    "    \n",
    "    key = cv.waitKey(1)\n",
    "    if key == ord(' '):\n",
    "        break\n",
    "    \n",
    "    cv.imshow('image', img)\n",
    "\n",
    "cv.destroyAllWindows()"
   ]
  },
  {
   "cell_type": "code",
   "execution_count": null,
   "metadata": {},
   "outputs": [],
   "source": []
  }
 ],
 "metadata": {
  "kernelspec": {
   "display_name": "Python 3",
   "language": "python",
   "name": "python3"
  },
  "language_info": {
   "codemirror_mode": {
    "name": "ipython",
    "version": 3
   },
   "file_extension": ".py",
   "mimetype": "text/x-python",
   "name": "python",
   "nbconvert_exporter": "python",
   "pygments_lexer": "ipython3",
   "version": "3.8.1"
  }
 },
 "nbformat": 4,
 "nbformat_minor": 4
}
